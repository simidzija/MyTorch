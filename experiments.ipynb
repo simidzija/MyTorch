{
 "cells": [
  {
   "cell_type": "markdown",
   "metadata": {},
   "source": [
    "# MyTorch Tutorial"
   ]
  },
  {
   "cell_type": "markdown",
   "metadata": {},
   "source": [
    "The purpose of this tutorial is to illustrate the capabilities of MyTorch. In particular, we will use MyTorch to construct and train a simple feedforward MNIST image classifier."
   ]
  },
  {
   "cell_type": "code",
   "execution_count": 1,
   "metadata": {},
   "outputs": [],
   "source": [
    "import mytorch\n",
    "import os\n",
    "import matplotlib.pyplot as plt"
   ]
  },
  {
   "cell_type": "markdown",
   "metadata": {},
   "source": [
    "Let's start by loading the datasets. The training set contains 60,000 images of handwritten digits along with their labels, while the test set contains 10,000 image/label pairs. "
   ]
  },
  {
   "cell_type": "code",
   "execution_count": 2,
   "metadata": {},
   "outputs": [],
   "source": [
    "train_set = mytorch.data.MNIST(os.getcwd(), train=True)\n",
    "test_set = mytorch.data.MNIST(os.getcwd(), train=False)"
   ]
  },
  {
   "cell_type": "markdown",
   "metadata": {},
   "source": [
    "Let's print a few images and their target labels."
   ]
  },
  {
   "cell_type": "code",
   "execution_count": 3,
   "metadata": {},
   "outputs": [
    {
     "data": {
      "image/png": "[encoded data removed]",
      "text/plain": [
       "<Figure size 640x480 with 6 Axes>"
      ]
     },
     "metadata": {},
     "output_type": "display_data"
    }
   ],
   "source": [
    "fig = plt.figure()\n",
    "for i in range(1,7):\n",
    "    fig.add_subplot(2,3,i)\n",
    "    image, label = train_set[i]\n",
    "    plt.imshow(image.data)\n",
    "    plt.title(f'target: {label.data}')\n",
    "    plt.axis('off')"
   ]
  },
  {
   "cell_type": "markdown",
   "metadata": {},
   "source": [
    "Next we'll use the datasets to construct DataLoader objects, which are iterables over batches of data. In the case of MNIST, each batch will consist of a tuple (images,labels). We'll use a batch size of 16 and shuffle the data after every epoch."
   ]
  },
  {
   "cell_type": "code",
   "execution_count": 4,
   "metadata": {},
   "outputs": [],
   "source": [
    "train_loader = mytorch.data.DataLoader(train_set, batch_size=16, shuffle=True)\n",
    "test_loader = mytorch.data.DataLoader(train_set, batch_size=64, shuffle=True)"
   ]
  },
  {
   "cell_type": "markdown",
   "metadata": {},
   "source": [
    "Now let's define a feedforward neural network to classify the images. We'll use a 3 layer network:\n",
    "- Input layer: 28 x 28 = 784 nodes\n",
    "- Hidden layer: 128 nodes\n",
    "- Output layer: 10 nodes (for 10 classes)  \n",
    "\n",
    "along with ReLU activation functions for the hidden units. We leave the output units unnormalized, because a softmax layer is built into the cross entropy cost function that we will use."
   ]
  },
  {
   "cell_type": "code",
   "execution_count": 5,
   "metadata": {},
   "outputs": [],
   "source": [
    "class Network(mytorch.nn.Module):\n",
    "    \n",
    "    def __init__(self):\n",
    "        super().__init__()\n",
    "        self.layer_stack = mytorch.nn.Sequential(\n",
    "            mytorch.nn.Flatten(),\n",
    "            mytorch.nn.Linear(28 * 28, 128),\n",
    "            mytorch.nn.ReLU(),\n",
    "            mytorch.nn.Linear(128, 10)\n",
    "        )\n",
    "\n",
    "    def forward(self, input):\n",
    "        return self.layer_stack(input)\n",
    "    \n",
    "net = Network()"
   ]
  },
  {
   "cell_type": "markdown",
   "metadata": {},
   "source": [
    "As expected, the randomly initialized network makes poor classification predictions:"
   ]
  },
  {
   "cell_type": "code",
   "execution_count": 6,
   "metadata": {},
   "outputs": [
    {
     "data": {
      "image/png": "[encoded data removed]",
      "text/plain": [
       "<Figure size 640x480 with 6 Axes>"
      ]
     },
     "metadata": {},
     "output_type": "display_data"
    }
   ],
   "source": [
    "fig = plt.figure()\n",
    "batch = next(iter(test_loader))\n",
    "for i in range(1,7):\n",
    "    fig.add_subplot(2,3,i)\n",
    "    image = batch[0][i]\n",
    "    pred = net(image[None,...]).argmax()\n",
    "    plt.imshow(image.data)\n",
    "    plt.title(f'prediction: {pred.data}')\n",
    "    plt.axis('off')"
   ]
  },
  {
   "cell_type": "markdown",
   "metadata": {},
   "source": [
    "Let us now train the the network so that it can make better predictions. We will use a cross entropy cost function and a vanilla stochastic gradient descent optimization algorithm."
   ]
  },
  {
   "cell_type": "code",
   "execution_count": 7,
   "metadata": {},
   "outputs": [],
   "source": [
    "cost_fn = mytorch.nn.CrossEntropyLoss()\n",
    "optimizer = mytorch.optim.SGD(\n",
    "    net.parameters(),\n",
    "    lr=0.001,\n",
    "    momentum=0.9,\n",
    "    dampening=0,\n",
    "    weight_decay=0\n",
    ")"
   ]
  },
  {
   "cell_type": "markdown",
   "metadata": {},
   "source": [
    "Define a function which tests the performance of the network by evaluating it on the test set:"
   ]
  },
  {
   "cell_type": "code",
   "execution_count": 8,
   "metadata": {},
   "outputs": [
    {
     "name": "stdout",
     "output_type": "stream",
     "text": [
      "Initial classification accuracy: 8.5%.\n"
     ]
    }
   ],
   "source": [
    "def test():\n",
    "    total = len(test_loader) * test_loader.batch_size\n",
    "    correct = 0\n",
    "\n",
    "    # Loop over mini-batches\n",
    "    for images, targets in test_loader:\n",
    "        # Network output and class prediction\n",
    "        output = net(images)\n",
    "        class_preds = output.argmax(dim=1)\n",
    "\n",
    "        # Update correct count\n",
    "        correct += (class_preds == targets).sum(dim=0).data\n",
    "    \n",
    "    return correct / total\n",
    "\n",
    "print(f'Initial classification accuracy: {test():.1%}.')"
   ]
  },
  {
   "cell_type": "markdown",
   "metadata": {},
   "source": [
    "Define a function which trains the network for a single epoch:"
   ]
  },
  {
   "cell_type": "code",
   "execution_count": 9,
   "metadata": {},
   "outputs": [],
   "source": [
    "def train():\n",
    "    # Loop over mini-batches\n",
    "    for images, targets in train_loader:\n",
    "        # Network output\n",
    "        output = net(images)\n",
    "\n",
    "        # Loss\n",
    "        loss = cost_fn(output, targets)\n",
    "\n",
    "        # Clear previous gradients\n",
    "        optimizer.zero_grad()\n",
    "\n",
    "        # Backpropagate to get new gradients\n",
    "        loss.backward()\n",
    "        \n",
    "        # Perform optimizer step\n",
    "        optimizer.step()"
   ]
  },
  {
   "cell_type": "markdown",
   "metadata": {},
   "source": [
    "Now we implement a loop over epochs. During each epoch we train the model, monitor its performance on the test set, and terminate training when the test error doesn't significantly decrease for a specified number of consecutive epochs. "
   ]
  },
  {
   "cell_type": "code",
   "execution_count": 10,
   "metadata": {},
   "outputs": [
    {
     "name": "stdout",
     "output_type": "stream",
     "text": [
      "MyTorch Network:\n",
      "Epoch   1: accuracy = 89.94%\n",
      "Epoch   2: accuracy = 91.74%\n",
      "Epoch   3: accuracy = 93.10%\n",
      "Epoch   4: accuracy = 94.04%\n",
      "Epoch   5: accuracy = 94.76%\n",
      "Epoch   6: accuracy = 95.32%\n",
      "Epoch   7: accuracy = 95.80%\n",
      "Epoch   8: accuracy = 96.14%\n",
      "Epoch   9: accuracy = 96.43%\n",
      "Epoch  10: accuracy = 96.68%\n",
      "Epoch  11: accuracy = 96.88%\n",
      "Epoch  12: accuracy = 97.07%\n",
      "Epoch  13: accuracy = 97.23%\n",
      "Epoch  14: accuracy = 97.39%\n",
      "Epoch  15: accuracy = 97.50%\n",
      "Epoch  16: accuracy = 97.62%\n",
      "Ran out of patience.\n",
      "Training time: 153 seconds\n"
     ]
    }
   ],
   "source": [
    "import time\n",
    "\n",
    "min_epochs = 5                 # minimum training epochs\n",
    "starting_patience = 5          # number of epochs of leniency\n",
    "tolerance = 0.01               # required improvement in classification accuracy\n",
    "\n",
    "epoch = 0                      # epoch counter\n",
    "accuracies = []                # classification accuracies on test set\n",
    "best_accuracy = 0              # best accuracy so far (within tolerance)\n",
    "patience = starting_patience   # patience counter\n",
    "print_interval = 1             # when to print progress\n",
    "\n",
    "print('MyTorch Network:')\n",
    "\n",
    "start_time = time.perf_counter()\n",
    "\n",
    "while epoch < min_epochs or patience > 0:\n",
    "\n",
    "    epoch += 1\n",
    "\n",
    "    # Train\n",
    "    train()\n",
    "\n",
    "    # Test and record accuracy\n",
    "    accuracy = test()\n",
    "    accuracies.append(accuracy)\n",
    "\n",
    "    # Compare to best_accuracy and decrease or reset patience\n",
    "    if accuracy > best_accuracy + tolerance:\n",
    "        best_accuracy = accuracy\n",
    "        patience = starting_patience\n",
    "    else:\n",
    "        patience -= 1\n",
    "\n",
    "    # Print progress\n",
    "    if epoch % print_interval == print_interval - 1:\n",
    "        print(f'Epoch {epoch:3d}: accuracy = {accuracy:3.2%}')\n",
    "    if patience == 0:\n",
    "        if epoch % print_interval != print_interval - 1:\n",
    "            print(f'Epoch {epoch:3d}: accuracy = {accuracy:3.2%}')\n",
    "        print('Ran out of patience.')\n",
    "\n",
    "total_epochs = epoch\n",
    "\n",
    "end_time = time.perf_counter()\n",
    "train_time = end_time - start_time\n",
    "print(f'Training time: {int(train_time)} seconds')"
   ]
  },
  {
   "cell_type": "markdown",
   "metadata": {},
   "source": [
    "After 153 seconds of training, our MyTorch network can classify MNIST images with 97.6% accuracy! For comparison, let's construct a PyTorch network with the same architecture and train it using the same optimization algorithm and the same hyperparameters. We will train it for the same number of epochs as our MyTorch Network, so that we can compare the training times."
   ]
  },
  {
   "cell_type": "code",
   "execution_count": 13,
   "metadata": {},
   "outputs": [
    {
     "name": "stdout",
     "output_type": "stream",
     "text": [
      "PyTorch Network:\n",
      "Epoch   1: accuracy = 90.26%\n",
      "Epoch   2: accuracy = 91.79%\n",
      "Epoch   3: accuracy = 92.49%\n",
      "Epoch   4: accuracy = 93.35%\n",
      "Epoch   5: accuracy = 93.76%\n",
      "Epoch   6: accuracy = 94.32%\n",
      "Epoch   7: accuracy = 94.81%\n",
      "Epoch   8: accuracy = 95.21%\n",
      "Epoch   9: accuracy = 95.37%\n",
      "Epoch  10: accuracy = 95.63%\n",
      "Epoch  11: accuracy = 96.03%\n",
      "Epoch  12: accuracy = 96.03%\n",
      "Epoch  13: accuracy = 96.33%\n",
      "Epoch  14: accuracy = 96.39%\n",
      "Epoch  15: accuracy = 96.55%\n",
      "Epoch  16: accuracy = 96.52%\n",
      "Training time: 193 seconds\n"
     ]
    }
   ],
   "source": [
    "import torch\n",
    "import torchvision\n",
    "\n",
    "# Datasets\n",
    "transform = torchvision.transforms.ToTensor()\n",
    "py_train_set = torchvision.datasets.MNIST(\n",
    "    os.getcwd(), train=True, transform=transform, download=True)\n",
    "py_test_set = torchvision.datasets.MNIST(\n",
    "    os.getcwd(), train=False, transform=transform, download=True)\n",
    "\n",
    "# Dataloaders\n",
    "py_train_loader = torch.utils.data.DataLoader(\n",
    "    py_train_set, batch_size=16, shuffle=True)\n",
    "py_test_loader = torch.utils.data.DataLoader(\n",
    "    py_test_set, batch_size=64)\n",
    "\n",
    "# Network\n",
    "class PyNetwork(torch.nn.Module):\n",
    "    \n",
    "    def __init__(self):\n",
    "        super().__init__()\n",
    "        self.layer_stack = torch.nn.Sequential(\n",
    "            torch.nn.Flatten(),\n",
    "            torch.nn.Linear(28 * 28, 128),\n",
    "            torch.nn.ReLU(),\n",
    "            torch.nn.Linear(128, 10)\n",
    "        )\n",
    "\n",
    "    def forward(self, input):\n",
    "        return self.layer_stack(input)\n",
    "    \n",
    "pynet = PyNetwork()\n",
    "\n",
    "# Cost and Optimizer\n",
    "py_cost_fn = torch.nn.CrossEntropyLoss()\n",
    "py_optimizer = torch.optim.SGD(\n",
    "    pynet.parameters(),\n",
    "    lr=0.001,\n",
    "    momentum=0.9,\n",
    "    dampening=0,\n",
    "    weight_decay=0\n",
    ")\n",
    "\n",
    "# Test function\n",
    "def py_test():\n",
    "    total = len(py_test_loader) * py_test_loader.batch_size\n",
    "    correct = 0\n",
    "\n",
    "    # Loop over mini-batches\n",
    "    for images, targets in py_test_loader:\n",
    "        # Network output and class prediction\n",
    "        output = pynet(images)\n",
    "        class_preds = output.argmax(dim=1)\n",
    "\n",
    "        # Update correct count\n",
    "        correct += (class_preds == targets).sum().item()\n",
    "\n",
    "    return correct / total\n",
    "\n",
    "# Training function for single epoch\n",
    "def py_train():\n",
    "    # Loop over mini-batches\n",
    "    for images, targets in py_train_loader:\n",
    "        # Network output\n",
    "        output = pynet(images)\n",
    "\n",
    "        # Loss\n",
    "        loss = py_cost_fn(output, targets)\n",
    "\n",
    "        # Clear previous gradients\n",
    "        py_optimizer.zero_grad()\n",
    "\n",
    "        # Backpropagate to get new gradients\n",
    "        loss.backward()\n",
    "        \n",
    "        # Perform optimizer step\n",
    "        py_optimizer.step()\n",
    "\n",
    "# Train\n",
    "epoch = 0                      # epoch counter\n",
    "accuracies = []                # classification accuracies on test set\n",
    "\n",
    "print('PyTorch Network:')\n",
    "\n",
    "start_time = time.perf_counter()\n",
    "\n",
    "while epoch < total_epochs:\n",
    "\n",
    "    epoch += 1\n",
    "\n",
    "    # Train\n",
    "    py_train()\n",
    "\n",
    "    # Test and record accuracy\n",
    "    accuracy = py_test()\n",
    "    accuracies.append(accuracy)\n",
    "\n",
    "    # Print progress\n",
    "    if epoch % print_interval == print_interval - 1:\n",
    "        print(f'Epoch {epoch:3d}: accuracy = {accuracy:3.2%}')\n",
    "\n",
    "end_time = time.perf_counter()\n",
    "train_time = end_time - start_time\n",
    "print(f'Training time: {int(train_time)} seconds')"
   ]
  },
  {
   "cell_type": "markdown",
   "metadata": {},
   "source": [
    "The PyTorch network achieves 96.5% classification accuracy, compared to 97.6% for our MyTorch network. Of course we expect the two nets to perform similarly, since they have the same architecture and were trained using the same algorithm. The difference between the two is solely due to their different (random) initial configurations, and the randomness associated with minibatch sampling during training.\n",
    "\n",
    "What is somewhat more interesting is that the MyTorch training takes 27% less time than the PyTorch training (for the same number of epochs). It appears that the lightweight/minimalist implementation of MyTorch gives it a slight edge in performance over PyTorch in this simple example. "
   ]
  }
 ],
 "metadata": {
  "kernelspec": {
   "display_name": "torch",
   "language": "python",
   "name": "python3"
  },
  "language_info": {
   "codemirror_mode": {
    "name": "ipython",
    "version": 3
   },
   "file_extension": ".py",
   "mimetype": "text/x-python",
   "name": "python",
   "nbconvert_exporter": "python",
   "pygments_lexer": "ipython3",
   "version": "3.11.4"
  }
 },
 "nbformat": 4,
 "nbformat_minor": 2
}
